{
  "nbformat": 4,
  "nbformat_minor": 0,
  "metadata": {
    "colab": {
      "provenance": [],
      "include_colab_link": true
    },
    "kernelspec": {
      "name": "python3",
      "display_name": "Python 3"
    },
    "language_info": {
      "name": "python"
    }
  },
  "cells": [
    {
      "cell_type": "markdown",
      "metadata": {
        "id": "view-in-github",
        "colab_type": "text"
      },
      "source": [
        "<a href=\"https://colab.research.google.com/github/dudumaroja/GeminiRPG/blob/main/Versao-Texto-Colab.ipynb\" target=\"_parent\"><img src=\"https://colab.research.google.com/assets/colab-badge.svg\" alt=\"Open In Colab\"/></a>"
      ]
    },
    {
      "cell_type": "code",
      "execution_count": null,
      "metadata": {
        "id": "D2dvM-yOy5NS"
      },
      "outputs": [],
      "source": [
        "!pip install -q -u google-generativeai ipython\n"
      ]
    },
    {
      "cell_type": "markdown",
      "source": [
        "Esse e uma versão mais simples apenas em texto para rodar via google collab.."
      ],
      "metadata": {
        "id": "_ChdLBZyzfF3"
      }
    },
    {
      "cell_type": "code",
      "source": [
        "##Importação de bibliotecas nescessárias\n",
        "\n",
        "import pathlib\n",
        "import textwrap\n",
        "import IPython\n",
        "import google.colab\n",
        "import google.generativeai as genai\n",
        "from google.colab import userdata\n",
        "\n",
        "api_key = userdata.get('SECRET_KEY')\n",
        "genai.configure(api_key=api_key)\n",
        "\n",
        "from IPython.display import display\n",
        "from IPython.display import Markdown\n",
        "\n",
        "# Configuração do Geminy API\n",
        "\n",
        "def to_markdown(text):\n",
        "    text = text.replace('•', '  *')\n",
        "    return Markdown(textwrap.indent(text, '> ', predicate=lambda _: True))\n",
        "\n",
        "#Configurações de resposta e filtros\n",
        "\n",
        "generation_config = {\n",
        "    \"candidate_count\": 1,\n",
        "                    }\n",
        "\n",
        "safety_settings = {\n",
        "    \"HARASSMENT\" : \"BLOCK_NONE\",\n",
        "    \"HATE\" : \"BLOCK_NONE\",\n",
        "    \"SEXUAL\" : \"BLOCK_NONE\",\n",
        "    \"DANGEROUS\" : \"BLOCK_NONE\",\n",
        "}\n",
        "#\n",
        "\n",
        "\n",
        "#--------- Inicializando o Modelo\n",
        "#Escolher qual modelo.\n",
        "model = genai.GenerativeModel(model_name=\"gemini-1.0-pro\",\n",
        "                              generation_config=generation_config,\n",
        "                              safety_settings=safety_settings,)\n",
        "mesa = model.start_chat()\n",
        "print(\"Criando o Mundo, por favor aguarde!!!!\")\n",
        "resposta = mesa.send_message(\"Você é um mestre de jogo, e só pode responder a mensagem no personas, só pode responder e criar coisas relacionadas ao mundo do jogo, perguntas fora do contexto do jogo devem ser respondidas ainda em persongem com respostas do tipo \\\"não sei do que você esta falando\\\"\\n\")\n",
        "resposta = mesa.send_message(\"Essas são as informações do jogo e do mundo do jogo: # Campanha de RPG: Eldoria - A Sombra do Dragão Ancião\\n\\n**Mundo:** Eldoria, um mundo medieval repleto de magia, mistério e perigos.\\n\\n**Objetivo:** Derrotar o terrível Dragão Ancião Azgoth, que despertou de seu sono milenar e ameaça destruir Eldoria com sua fúria implacável.\\n\\n**Etapas da campanha:**\\n\\n1. **A Busca pelo Sábio:** Os jogadores começam a aventura buscando o Sábio da Montanha, um eremita detentor de conhecimento ancestral que sabe a localização da lendária Espada Sagrada, a única arma capaz de ferir o Dragão Ancião.\\n2. **O Templo Esquecido:** Seguindo as instruções do Sábio, os heróis se aventuram nas ruínas do Templo Esquecido, um local repleto de armadilhas e criaturas perigosas, para recuperar a Espada Sagrada.\\n3. **Unindo as Tribos:** Com a Espada Sagrada em mãos, os jogadores devem unir as cinco tribos de Eldoria, que vivem em constante conflito, para enfrentar a ameaça comum do Dragão Ancião. Isso exigirá diplomacia, coragem e a capacidade de superar as diferenças entre os povos. \\n4. **O Escudo da Luz:** A profecia conta sobre o Escudo da Luz, um artefato capaz de repelir o fogo do dragão. Os jogadores devem embarcar em uma busca para encontrar este escudo e completar seu arsenal para o confronto final.\\n5. **Confronto com o Dragão:** Finalmente, os heróis, com a Espada Sagrada, o Escudo da Luz e o apoio das tribos unidas, devem enfrentar o Dragão Ancião Azgoth em seu covil. Esta batalha épica testará a coragem, habilidade e o trabalho em equipe dos jogadores.\\n\\n**A campanha em Eldoria oferece uma experiência rica em exploração, combate, resolução de problemas e interação social, culminando em um confronto épico contra um poderoso dragão. Os jogadores terão a oportunidade de se tornarem heróis lendários e salvar o mundo da destruição.**... como o Meste apresente o mundo ao jogador de nameira rapida, sem contar os objetivos, ou falar demais sobre o mundo, apenas o local, por exemplo uma estalagem, deixe o jogador descobrir o objetico e o mundo sozinho, apenas o direcione com rumores dos persongens ao redor\")\n",
        "resposta = mesa.send_message(\"Regras: Você como mestre, não pode sugerir opções ao jogador, deixe a curiosidade do jogador guiar suas repostas, e que elas sejam sucintas e relevantes,\")\n",
        "resposta = mesa.send_message(\"Escolha um local para o jogador começar a jornada, Crie um NPC de acordo com esta localização, na voz do NPC, Se apresente ao Jogador! só tem um jogador\")\n",
        "print(f\"\\nMestre: {resposta.text}\\n\")\n",
        "prompt = input(\"Jogador: \")\n",
        "while prompt != \"sair\":\n",
        "    resposta = mesa.send_message(prompt)\n",
        "    print(f\"\\nMestre: {resposta.text}\\n\")\n",
        "    prompt = input(\"Jogador: \")\n"
      ],
      "metadata": {
        "id": "7ZBmS1Qny8PD"
      },
      "execution_count": null,
      "outputs": []
    }
  ]
}
